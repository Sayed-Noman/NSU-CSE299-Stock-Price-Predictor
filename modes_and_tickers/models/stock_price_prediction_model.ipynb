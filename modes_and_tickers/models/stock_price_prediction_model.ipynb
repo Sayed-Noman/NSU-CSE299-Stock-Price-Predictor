{
  "nbformat": 4,
  "nbformat_minor": 0,
  "metadata": {
    "colab": {
      "name": "stock price prediction model.ipynb",
      "provenance": [],
      "collapsed_sections": [],
      "toc_visible": true
    },
    "kernelspec": {
      "display_name": "Python 3",
      "name": "python3"
    },
    "language_info": {
      "name": "python"
    }
  },
  "cells": [
    {
      "cell_type": "markdown",
      "metadata": {
        "id": "Fr2-ehzEQ2vf"
      },
      "source": [
        "\n",
        "## Total Process: \n",
        "### Part-0:  Fire the System\n",
        "\n",
        "    Steps#0 :- Fire the System-- Import Libraries\n",
        "\n",
        "### Part-1 : Data Pre-Processing\n",
        "\n",
        "    Steps#1 :- Read Data\n",
        "    Steps#2 :- Data Pre-Processing(shaping and Transform)\n",
        "\n",
        "### Part-2 : Create a Model  and Train it\n",
        "\n",
        "    Steps#3 :- Building-up the Lstm based Neural Network\n",
        "    Steps#4 :-Start Training\n",
        "\n",
        "### Part-3 : Make Future Prediction\n",
        "\n",
        "\n",
        "    Steps#5 :-  Make Predictions for Future Dates\n",
        "    Steps#6 :- Visualize the Predictions"
      ]
    },
    {
      "cell_type": "markdown",
      "metadata": {
        "id": "RmUUE1uEQ9ON"
      },
      "source": [
        "*`Steps#0 :- Fire The System`*"
      ]
    },
    {
      "cell_type": "code",
      "metadata": {
        "id": "Js39JvEp7xi5"
      },
      "source": [
        "#importing Libraries\n",
        "import math\n",
        "import numpy as np\n",
        "import pandas as pd\n",
        "import pandas_datareader as web\n",
        "from sklearn.preprocessing import MinMaxScaler\n",
        "from keras.models import Sequential\n",
        "from keras.layers import Dense,LSTM\n",
        "import matplotlib.pyplot as plt\n",
        "import datetime as dt\n"
      ],
      "execution_count": null,
      "outputs": []
    },
    {
      "cell_type": "code",
      "metadata": {
        "id": "6qrWEO35GizF"
      },
      "source": [
        "#Plotting Style set\n",
        "plt.style.use('fivethirtyeight')"
      ],
      "execution_count": null,
      "outputs": []
    },
    {
      "cell_type": "markdown",
      "metadata": {
        "id": "SAhB_FTPRQej"
      },
      "source": [
        "*`Steps#1 :- Read Data`*"
      ]
    },
    {
      "cell_type": "code",
      "metadata": {
        "colab": {
          "background_save": true,
          "base_uri": "https://localhost:8080/",
          "height": 450
        },
        "id": "VQ10q4nZFzbO",
        "outputId": "26ea87f4-a552-4df1-afa0-4d50e43466fb"
      },
      "source": [
        "#Downloadad  Data from API\n",
        "\n",
        "#Ticker Symbol\n",
        "company = 'TSLA'\n",
        "#Start and End Time \n",
        "start = dt.datetime(2012,1,1)\n",
        "end = dt.datetime.now()\n",
        "\n",
        "actual_data = web.DataReader(company, 'yahoo', start, end)\n",
        "actual_data"
      ],
      "execution_count": null,
      "outputs": [
        {
          "output_type": "execute_result",
          "data": {
            "text/html": [
              "<div>\n",
              "<style scoped>\n",
              "    .dataframe tbody tr th:only-of-type {\n",
              "        vertical-align: middle;\n",
              "    }\n",
              "\n",
              "    .dataframe tbody tr th {\n",
              "        vertical-align: top;\n",
              "    }\n",
              "\n",
              "    .dataframe thead th {\n",
              "        text-align: right;\n",
              "    }\n",
              "</style>\n",
              "<table border=\"1\" class=\"dataframe\">\n",
              "  <thead>\n",
              "    <tr style=\"text-align: right;\">\n",
              "      <th></th>\n",
              "      <th>High</th>\n",
              "      <th>Low</th>\n",
              "      <th>Open</th>\n",
              "      <th>Close</th>\n",
              "      <th>Volume</th>\n",
              "      <th>Adj Close</th>\n",
              "    </tr>\n",
              "    <tr>\n",
              "      <th>Date</th>\n",
              "      <th></th>\n",
              "      <th></th>\n",
              "      <th></th>\n",
              "      <th></th>\n",
              "      <th></th>\n",
              "      <th></th>\n",
              "    </tr>\n",
              "  </thead>\n",
              "  <tbody>\n",
              "    <tr>\n",
              "      <th>2012-01-03</th>\n",
              "      <td>5.900000</td>\n",
              "      <td>5.530000</td>\n",
              "      <td>5.788000</td>\n",
              "      <td>5.616000</td>\n",
              "      <td>4640500.0</td>\n",
              "      <td>5.616000</td>\n",
              "    </tr>\n",
              "    <tr>\n",
              "      <th>2012-01-04</th>\n",
              "      <td>5.734000</td>\n",
              "      <td>5.500000</td>\n",
              "      <td>5.642000</td>\n",
              "      <td>5.542000</td>\n",
              "      <td>3150500.0</td>\n",
              "      <td>5.542000</td>\n",
              "    </tr>\n",
              "    <tr>\n",
              "      <th>2012-01-05</th>\n",
              "      <td>5.586000</td>\n",
              "      <td>5.370000</td>\n",
              "      <td>5.552000</td>\n",
              "      <td>5.424000</td>\n",
              "      <td>5027500.0</td>\n",
              "      <td>5.424000</td>\n",
              "    </tr>\n",
              "    <tr>\n",
              "      <th>2012-01-06</th>\n",
              "      <td>5.558000</td>\n",
              "      <td>5.282000</td>\n",
              "      <td>5.440000</td>\n",
              "      <td>5.382000</td>\n",
              "      <td>4931500.0</td>\n",
              "      <td>5.382000</td>\n",
              "    </tr>\n",
              "    <tr>\n",
              "      <th>2012-01-09</th>\n",
              "      <td>5.498000</td>\n",
              "      <td>5.224000</td>\n",
              "      <td>5.400000</td>\n",
              "      <td>5.450000</td>\n",
              "      <td>4485000.0</td>\n",
              "      <td>5.450000</td>\n",
              "    </tr>\n",
              "    <tr>\n",
              "      <th>...</th>\n",
              "      <td>...</td>\n",
              "      <td>...</td>\n",
              "      <td>...</td>\n",
              "      <td>...</td>\n",
              "      <td>...</td>\n",
              "      <td>...</td>\n",
              "    </tr>\n",
              "    <tr>\n",
              "      <th>2021-05-04</th>\n",
              "      <td>683.450012</td>\n",
              "      <td>657.700012</td>\n",
              "      <td>678.940002</td>\n",
              "      <td>673.599976</td>\n",
              "      <td>29739300.0</td>\n",
              "      <td>673.599976</td>\n",
              "    </tr>\n",
              "    <tr>\n",
              "      <th>2021-05-05</th>\n",
              "      <td>685.299988</td>\n",
              "      <td>667.340027</td>\n",
              "      <td>681.059998</td>\n",
              "      <td>670.940002</td>\n",
              "      <td>21901900.0</td>\n",
              "      <td>670.940002</td>\n",
              "    </tr>\n",
              "    <tr>\n",
              "      <th>2021-05-06</th>\n",
              "      <td>681.020020</td>\n",
              "      <td>650.000000</td>\n",
              "      <td>680.760010</td>\n",
              "      <td>663.539978</td>\n",
              "      <td>27784600.0</td>\n",
              "      <td>663.539978</td>\n",
              "    </tr>\n",
              "    <tr>\n",
              "      <th>2021-05-07</th>\n",
              "      <td>690.000000</td>\n",
              "      <td>660.219971</td>\n",
              "      <td>665.799988</td>\n",
              "      <td>672.369995</td>\n",
              "      <td>23422100.0</td>\n",
              "      <td>672.369995</td>\n",
              "    </tr>\n",
              "    <tr>\n",
              "      <th>2021-05-10</th>\n",
              "      <td>665.020020</td>\n",
              "      <td>643.530029</td>\n",
              "      <td>664.900024</td>\n",
              "      <td>646.270020</td>\n",
              "      <td>9877278.0</td>\n",
              "      <td>646.270020</td>\n",
              "    </tr>\n",
              "  </tbody>\n",
              "</table>\n",
              "<p>2353 rows × 6 columns</p>\n",
              "</div>"
            ],
            "text/plain": [
              "                  High         Low  ...      Volume   Adj Close\n",
              "Date                                ...                        \n",
              "2012-01-03    5.900000    5.530000  ...   4640500.0    5.616000\n",
              "2012-01-04    5.734000    5.500000  ...   3150500.0    5.542000\n",
              "2012-01-05    5.586000    5.370000  ...   5027500.0    5.424000\n",
              "2012-01-06    5.558000    5.282000  ...   4931500.0    5.382000\n",
              "2012-01-09    5.498000    5.224000  ...   4485000.0    5.450000\n",
              "...                ...         ...  ...         ...         ...\n",
              "2021-05-04  683.450012  657.700012  ...  29739300.0  673.599976\n",
              "2021-05-05  685.299988  667.340027  ...  21901900.0  670.940002\n",
              "2021-05-06  681.020020  650.000000  ...  27784600.0  663.539978\n",
              "2021-05-07  690.000000  660.219971  ...  23422100.0  672.369995\n",
              "2021-05-10  665.020020  643.530029  ...   9877278.0  646.270020\n",
              "\n",
              "[2353 rows x 6 columns]"
            ]
          },
          "metadata": {
            "tags": []
          },
          "execution_count": 0
        }
      ]
    },
    {
      "cell_type": "code",
      "metadata": {
        "colab": {
          "base_uri": "https://localhost:8080/",
          "height": 402
        },
        "id": "BVuJrQoaGods",
        "outputId": "eac365ed-c0ce-4229-f201-ace57ae07edd"
      },
      "source": [
        "#Ploting the graph using Matplotlib\n",
        "plt.figure(figsize=(10,6))\n",
        "plt.title('Close Price History')\n",
        "plt.plot(actual_data['Close'])\n",
        "plt.xlabel('Date',fontsize = 18)\n",
        "plt.ylabel('Close Price at USD($)', fontsize = 18)\n",
        "plt.show()"
      ],
      "execution_count": null,
      "outputs": [
        {
          "output_type": "display_data",
          "data": {
            "image/png": "[encoded data removed]",
            "text/plain": [
              "<Figure size 720x432 with 1 Axes>"
            ]
          },
          "metadata": {
            "tags": []
          }
        }
      ]
    },
    {
      "cell_type": "markdown",
      "metadata": {
        "id": "p4G71FlKRafz"
      },
      "source": [
        "*`Steps#2 :- Data Pre-Processing Shaping and Transform`*"
      ]
    },
    {
      "cell_type": "code",
      "metadata": {
        "colab": {
          "base_uri": "https://localhost:8080/"
        },
        "id": "RXmtBUnbHpSv",
        "outputId": "250eb812-ddf8-4125-892c-1095b445bff3"
      },
      "source": [
        "#create New Data Frame // Filtering unwanted data\n",
        "filter_data = actual_data.filter(['Close'])\n",
        "#Convert Data Frame into Numpy Array dataset\n",
        "dataset = filter_data.values\n",
        "#get the number of rows and columns to train the model on\n",
        "training_data_length = math.ceil(len(dataset) * .8)\n",
        "\n",
        "training_data_length"
      ],
      "execution_count": null,
      "outputs": [
        {
          "output_type": "execute_result",
          "data": {
            "text/plain": [
              "1882"
            ]
          },
          "metadata": {
            "tags": []
          },
          "execution_count": 6
        }
      ]
    },
    {
      "cell_type": "code",
      "metadata": {
        "colab": {
          "base_uri": "https://localhost:8080/"
        },
        "id": "0iefclooHrD-",
        "outputId": "eaa68e06-b122-457b-bfaf-1122906dd76c"
      },
      "source": [
        "#Scale the Data\n",
        "scaler = MinMaxScaler(feature_range=(0,1))\n",
        "scaled_data = scaler.fit_transform(dataset)\n",
        "\n",
        "scaled_data"
      ],
      "execution_count": null,
      "outputs": [
        {
          "output_type": "execute_result",
          "data": {
            "text/plain": [
              "array([[0.00120428],\n",
              "       [0.00112005],\n",
              "       [0.00098573],\n",
              "       ...,\n",
              "       [0.7585176 ],\n",
              "       [0.75009443],\n",
              "       [0.7601453 ]])"
            ]
          },
          "metadata": {
            "tags": []
          },
          "execution_count": 7
        }
      ]
    },
    {
      "cell_type": "code",
      "metadata": {
        "colab": {
          "base_uri": "https://localhost:8080/"
        },
        "id": "ZjT-wEPbH-0N",
        "outputId": "9db87cbf-d17c-40a8-f07d-2b8371e2d2bf"
      },
      "source": [
        "#Create a training Data Set\n",
        "train_data = scaled_data[0: training_data_length, :]\n",
        "\n",
        "#split training data into two list x_train and y_train\n",
        "x_train = []\n",
        "y_train = []\n",
        "\n",
        "n_past = 60 # no of past day to look back to predict\n",
        "n_future = 1 #no of days to predict in future\n",
        "\n",
        "for i in range(n_past, len(train_data)):\n",
        "  x_train.append(train_data[i-n_past :i, 0])\n",
        "  y_train.append(train_data[i + n_future -1 : i + n_future,0])\n",
        "  if i<= 61:\n",
        "    print(x_train)\n",
        "    print(y_train)\n",
        "    print()"
      ],
      "execution_count": null,
      "outputs": [
        {
          "output_type": "stream",
          "text": [
            "[array([0.00120428, 0.00112005, 0.00098573, 0.00093793, 0.00101533,\n",
            "       0.00109956, 0.00123843, 0.00124298, 0.        , 0.00086736,\n",
            "       0.00091516, 0.00090378, 0.00086736, 0.00090606, 0.00105403,\n",
            "       0.00117924, 0.00140006, 0.00148885, 0.00154348, 0.00142966,\n",
            "       0.00154576, 0.00169829, 0.00190317, 0.00205115, 0.00200562,\n",
            "       0.00208074, 0.00222872, 0.00189179, 0.00198058, 0.00236303,\n",
            "       0.00246092, 0.00259296, 0.00277281, 0.00266581, 0.00260207,\n",
            "       0.00267264, 0.00249507, 0.00246548, 0.00250873, 0.00241767,\n",
            "       0.00264532, 0.00256109, 0.00249962, 0.00234937, 0.00235165,\n",
            "       0.00234027, 0.00272045, 0.00300957, 0.00302778, 0.00284566,\n",
            "       0.00277964, 0.00285249, 0.00277508, 0.00277053, 0.00281378,\n",
            "       0.00264305, 0.0025702 , 0.003326  , 0.00344893, 0.00342845])]\n",
            "[array([0.00331007])]\n",
            "\n",
            "[array([0.00120428, 0.00112005, 0.00098573, 0.00093793, 0.00101533,\n",
            "       0.00109956, 0.00123843, 0.00124298, 0.        , 0.00086736,\n",
            "       0.00091516, 0.00090378, 0.00086736, 0.00090606, 0.00105403,\n",
            "       0.00117924, 0.00140006, 0.00148885, 0.00154348, 0.00142966,\n",
            "       0.00154576, 0.00169829, 0.00190317, 0.00205115, 0.00200562,\n",
            "       0.00208074, 0.00222872, 0.00189179, 0.00198058, 0.00236303,\n",
            "       0.00246092, 0.00259296, 0.00277281, 0.00266581, 0.00260207,\n",
            "       0.00267264, 0.00249507, 0.00246548, 0.00250873, 0.00241767,\n",
            "       0.00264532, 0.00256109, 0.00249962, 0.00234937, 0.00235165,\n",
            "       0.00234027, 0.00272045, 0.00300957, 0.00302778, 0.00284566,\n",
            "       0.00277964, 0.00285249, 0.00277508, 0.00277053, 0.00281378,\n",
            "       0.00264305, 0.0025702 , 0.003326  , 0.00344893, 0.00342845]), array([0.00112005, 0.00098573, 0.00093793, 0.00101533, 0.00109956,\n",
            "       0.00123843, 0.00124298, 0.        , 0.00086736, 0.00091516,\n",
            "       0.00090378, 0.00086736, 0.00090606, 0.00105403, 0.00117924,\n",
            "       0.00140006, 0.00148885, 0.00154348, 0.00142966, 0.00154576,\n",
            "       0.00169829, 0.00190317, 0.00205115, 0.00200562, 0.00208074,\n",
            "       0.00222872, 0.00189179, 0.00198058, 0.00236303, 0.00246092,\n",
            "       0.00259296, 0.00277281, 0.00266581, 0.00260207, 0.00267264,\n",
            "       0.00249507, 0.00246548, 0.00250873, 0.00241767, 0.00264532,\n",
            "       0.00256109, 0.00249962, 0.00234937, 0.00235165, 0.00234027,\n",
            "       0.00272045, 0.00300957, 0.00302778, 0.00284566, 0.00277964,\n",
            "       0.00285249, 0.00277508, 0.00277053, 0.00281378, 0.00264305,\n",
            "       0.0025702 , 0.003326  , 0.00344893, 0.00342845, 0.00331007])]\n",
            "[array([0.00331007]), array([0.00328958])]\n",
            "\n"
          ],
          "name": "stdout"
        }
      ]
    },
    {
      "cell_type": "code",
      "metadata": {
        "colab": {
          "base_uri": "https://localhost:8080/"
        },
        "id": "we1wnbHgK_X2",
        "outputId": "3ed7b985-9188-46b2-ee19-2740c0a6ab6a"
      },
      "source": [
        "# convert scaled training x_train and y_train data set into numpy array\n",
        "x_train, y_train = np.array(x_train),np.array(y_train)\n",
        "\n",
        "x_train,y_train\n",
        "print('Shape of x_train == {}'.format(x_train.shape))\n",
        "print('Shape of x_train == {}'.format(y_train.shape))"
      ],
      "execution_count": null,
      "outputs": [
        {
          "output_type": "stream",
          "text": [
            "Shape of x_train == (1822, 60)\n",
            "Shape of x_train == (1822, 1)\n"
          ],
          "name": "stdout"
        }
      ]
    },
    {
      "cell_type": "code",
      "metadata": {
        "colab": {
          "base_uri": "https://localhost:8080/"
        },
        "id": "HRIlVP-7N4PW",
        "outputId": "c3c5b597-dba0-4d4b-a82d-594baef68d34"
      },
      "source": [
        "#reshape the train data set\n",
        "x_train = np.reshape(x_train,(x_train.shape[0], x_train.shape[1],1))\n",
        "x_train.shape"
      ],
      "execution_count": null,
      "outputs": [
        {
          "output_type": "execute_result",
          "data": {
            "text/plain": [
              "(1822, 60, 1)"
            ]
          },
          "metadata": {
            "tags": []
          },
          "execution_count": 11
        }
      ]
    },
    {
      "cell_type": "markdown",
      "metadata": {
        "id": "_InuYZWkRuqX"
      },
      "source": [
        "*`Steps#3 :- Building The LSTM neural Network`*"
      ]
    },
    {
      "cell_type": "code",
      "metadata": {
        "id": "q5LYbPRBODnO"
      },
      "source": [
        "#Train LSTM Model / Build LSTM MOdel\n",
        "model = Sequential()\n",
        "model.add(LSTM(50,return_sequences=True, input_shape = (x_train.shape[1],1)))\n",
        "model.add(LSTM(50, return_sequences=False))\n",
        "model.add(Dense(25))\n",
        "model.add(Dense(1))"
      ],
      "execution_count": null,
      "outputs": []
    },
    {
      "cell_type": "code",
      "metadata": {
        "id": "xqy-VzkfU2uD"
      },
      "source": [
        "#compile the LSTM model\n",
        "model.compile(optimizer='adam',loss = 'mean_squared_error')"
      ],
      "execution_count": null,
      "outputs": []
    },
    {
      "cell_type": "markdown",
      "metadata": {
        "id": "r0v4J8OhSGEn"
      },
      "source": [
        "*`Steps#4 :- Start Training`*"
      ]
    },
    {
      "cell_type": "code",
      "metadata": {
        "colab": {
          "base_uri": "https://localhost:8080/"
        },
        "id": "fULdMO_4U65L",
        "outputId": "1ddb7745-4ca2-4e9d-e504-94edfbae418e"
      },
      "source": [
        "#train the model\n",
        "model.fit(x_train,y_train, batch_size= 50, epochs=10)"
      ],
      "execution_count": null,
      "outputs": [
        {
          "output_type": "stream",
          "text": [
            "Epoch 1/10\n",
            "37/37 [==============================] - 6s 60ms/step - loss: 4.0596e-04\n",
            "Epoch 2/10\n",
            "37/37 [==============================] - 2s 62ms/step - loss: 1.9138e-05\n",
            "Epoch 3/10\n",
            "37/37 [==============================] - 2s 62ms/step - loss: 1.1518e-05\n",
            "Epoch 4/10\n",
            "37/37 [==============================] - 2s 61ms/step - loss: 1.1189e-05\n",
            "Epoch 5/10\n",
            "37/37 [==============================] - 2s 63ms/step - loss: 1.2348e-05\n",
            "Epoch 6/10\n",
            "37/37 [==============================] - 2s 61ms/step - loss: 1.1235e-05\n",
            "Epoch 7/10\n",
            "37/37 [==============================] - 2s 62ms/step - loss: 1.1069e-05\n",
            "Epoch 8/10\n",
            "37/37 [==============================] - 2s 62ms/step - loss: 1.0007e-05\n",
            "Epoch 9/10\n",
            "37/37 [==============================] - 2s 62ms/step - loss: 1.0587e-05\n",
            "Epoch 10/10\n",
            "37/37 [==============================] - 2s 62ms/step - loss: 9.7865e-06\n"
          ],
          "name": "stdout"
        },
        {
          "output_type": "execute_result",
          "data": {
            "text/plain": [
              "<tensorflow.python.keras.callbacks.History at 0x7fecf3de7390>"
            ]
          },
          "metadata": {
            "tags": []
          },
          "execution_count": 14
        }
      ]
    },
    {
      "cell_type": "markdown",
      "metadata": {
        "id": "Ed_OFPjTSJfo"
      },
      "source": [
        "*`Steps#5 :- Make Prediction for Future Days`*"
      ]
    },
    {
      "cell_type": "code",
      "metadata": {
        "id": "2LPngAc5U9Cd"
      },
      "source": [
        "#dataset for prediction\n",
        "#create new array containing scaled value from 1543 to 2003 index\n",
        "test_data = scaled_data[training_data_length - 60 : , :]\n",
        "#cared data sets for test datas x_test, y_test\n",
        "x_test = []\n",
        "y_test = dataset[training_data_length : , :]\n",
        "for i in range(60, len(test_data)):\n",
        "  x_test.append(test_data[i-60:i, 0])"
      ],
      "execution_count": null,
      "outputs": []
    },
    {
      "cell_type": "code",
      "metadata": {
        "colab": {
          "base_uri": "https://localhost:8080/"
        },
        "id": "ykFzUPwxU9ti",
        "outputId": "01805d1e-3e68-48bf-addd-d6e2d9b746ab"
      },
      "source": [
        "#create this test data dataset into  an numpy array\n",
        "x_test = np.array(x_test)\n",
        "x_test"
      ],
      "execution_count": null,
      "outputs": [
        {
          "output_type": "execute_result",
          "data": {
            "text/plain": [
              "array([[0.05989309, 0.06124307, 0.05577258, ..., 0.045724  , 0.04484071,\n",
              "        0.04472916],\n",
              "       [0.06124307, 0.05577258, 0.05740713, ..., 0.04484071, 0.04472916,\n",
              "        0.04554188],\n",
              "       [0.05577258, 0.05740713, 0.05700646, ..., 0.04472916, 0.04554188,\n",
              "        0.04568303],\n",
              "       ...,\n",
              "       [0.97761033, 0.96172023, 0.91090818, ..., 0.8023407 , 0.77440777,\n",
              "        0.76154535],\n",
              "       [0.96172023, 0.91090818, 0.91869385, ..., 0.77440777, 0.76154535,\n",
              "        0.7585176 ],\n",
              "       [0.91090818, 0.91869385, 0.92377053, ..., 0.76154535, 0.7585176 ,\n",
              "        0.75009443]])"
            ]
          },
          "metadata": {
            "tags": []
          },
          "execution_count": 16
        }
      ]
    },
    {
      "cell_type": "code",
      "metadata": {
        "colab": {
          "base_uri": "https://localhost:8080/"
        },
        "id": "68g9KRSmVAuD",
        "outputId": "59fe8f7d-d453-4823-b631-aa20d7a93c6f"
      },
      "source": [
        "#reshape the test data\n",
        "x_test = np.reshape(x_test, (x_test.shape[0],x_test.shape[1], 1))\n",
        "x_test.shape"
      ],
      "execution_count": null,
      "outputs": [
        {
          "output_type": "execute_result",
          "data": {
            "text/plain": [
              "(470, 60, 1)"
            ]
          },
          "metadata": {
            "tags": []
          },
          "execution_count": 17
        }
      ]
    },
    {
      "cell_type": "code",
      "metadata": {
        "id": "bWHOXvXbVB30"
      },
      "source": [
        "#get the models predicted value\n",
        "prediction = model.predict(x_test)\n",
        "prediction = scaler.inverse_transform(prediction)"
      ],
      "execution_count": null,
      "outputs": []
    },
    {
      "cell_type": "code",
      "metadata": {
        "colab": {
          "base_uri": "https://localhost:8080/"
        },
        "id": "Vdi_dyhBVEuL",
        "outputId": "70d6f40d-92d4-4e9d-8083-ead483143cb4"
      },
      "source": [
        "#get the RMSE (root square mean error)\n",
        "rmse = np.sqrt(np.mean(prediction - y_test)** 2)\n",
        "rmse"
      ],
      "execution_count": null,
      "outputs": [
        {
          "output_type": "execute_result",
          "data": {
            "text/plain": [
              "35.04544172084078"
            ]
          },
          "metadata": {
            "tags": []
          },
          "execution_count": 19
        }
      ]
    },
    {
      "cell_type": "markdown",
      "metadata": {
        "id": "m8DHACBySWo0"
      },
      "source": [
        "*`Steps#6 :- Visualize the Prediction`*"
      ]
    },
    {
      "cell_type": "code",
      "metadata": {
        "colab": {
          "base_uri": "https://localhost:8080/",
          "height": 660
        },
        "id": "zpPHgaARVF77",
        "outputId": "f656dbbd-f989-4ad0-c93d-9cf8c7514d55"
      },
      "source": [
        "#plot the predicteed data\n",
        "train = actual_data[: training_data_length]\n",
        "valid = actual_data[training_data_length : ]\n",
        "valid['Predictions'] = prediction\n",
        "#visualize the model\n",
        "plt.figure(figsize=(16,8))\n",
        "plt.title('Predicted Model')\n",
        "plt.xlabel('Date',fontsize = 18)\n",
        "plt.ylabel('Close Price at USD($)', fontsize = 18)\n",
        "plt.plot(train['Close'])\n",
        "plt.plot(valid[['Close', 'Predictions']])\n",
        "plt.legend(['Train','Valid','Predictions'],loc = 'upper left')\n",
        "plt.show()"
      ],
      "execution_count": null,
      "outputs": [
        {
          "output_type": "stream",
          "text": [
            "/usr/local/lib/python3.7/dist-packages/ipykernel_launcher.py:4: SettingWithCopyWarning: \n",
            "A value is trying to be set on a copy of a slice from a DataFrame.\n",
            "Try using .loc[row_indexer,col_indexer] = value instead\n",
            "\n",
            "See the caveats in the documentation: https://pandas.pydata.org/pandas-docs/stable/user_guide/indexing.html#returning-a-view-versus-a-copy\n",
            "  after removing the cwd from sys.path.\n"
          ],
          "name": "stderr"
        },
        {
          "output_type": "display_data",
          "data": {
            "image/png": "[encoded data removed]",
            "text/plain": [
              "<Figure size 1152x576 with 1 Axes>"
            ]
          },
          "metadata": {
            "tags": []
          }
        }
      ]
    },
    {
      "cell_type": "code",
      "metadata": {
        "colab": {
          "base_uri": "https://localhost:8080/",
          "height": 450
        },
        "id": "boiUddi4VIc7",
        "outputId": "628a1e58-db7d-4775-8a7c-f9ab34e6e89f"
      },
      "source": [
        "#show valid and Predicted prices\n",
        "valid"
      ],
      "execution_count": null,
      "outputs": [
        {
          "output_type": "execute_result",
          "data": {
            "text/html": [
              "<div>\n",
              "<style scoped>\n",
              "    .dataframe tbody tr th:only-of-type {\n",
              "        vertical-align: middle;\n",
              "    }\n",
              "\n",
              "    .dataframe tbody tr th {\n",
              "        vertical-align: top;\n",
              "    }\n",
              "\n",
              "    .dataframe thead th {\n",
              "        text-align: right;\n",
              "    }\n",
              "</style>\n",
              "<table border=\"1\" class=\"dataframe\">\n",
              "  <thead>\n",
              "    <tr style=\"text-align: right;\">\n",
              "      <th></th>\n",
              "      <th>High</th>\n",
              "      <th>Low</th>\n",
              "      <th>Open</th>\n",
              "      <th>Close</th>\n",
              "      <th>Volume</th>\n",
              "      <th>Adj Close</th>\n",
              "      <th>Predictions</th>\n",
              "    </tr>\n",
              "    <tr>\n",
              "      <th>Date</th>\n",
              "      <th></th>\n",
              "      <th></th>\n",
              "      <th></th>\n",
              "      <th></th>\n",
              "      <th></th>\n",
              "      <th></th>\n",
              "      <th></th>\n",
              "    </tr>\n",
              "  </thead>\n",
              "  <tbody>\n",
              "    <tr>\n",
              "      <th>2019-06-05</th>\n",
              "      <td>40.256001</td>\n",
              "      <td>38.369999</td>\n",
              "      <td>39.736000</td>\n",
              "      <td>39.318001</td>\n",
              "      <td>67554000.0</td>\n",
              "      <td>39.318001</td>\n",
              "      <td>36.785694</td>\n",
              "    </tr>\n",
              "    <tr>\n",
              "      <th>2019-06-06</th>\n",
              "      <td>42.200001</td>\n",
              "      <td>40.360001</td>\n",
              "      <td>40.888000</td>\n",
              "      <td>41.189999</td>\n",
              "      <td>101211000.0</td>\n",
              "      <td>41.189999</td>\n",
              "      <td>36.545040</td>\n",
              "    </tr>\n",
              "    <tr>\n",
              "      <th>2019-06-07</th>\n",
              "      <td>42.167999</td>\n",
              "      <td>40.700001</td>\n",
              "      <td>41.000000</td>\n",
              "      <td>40.900002</td>\n",
              "      <td>80017500.0</td>\n",
              "      <td>40.900002</td>\n",
              "      <td>36.544220</td>\n",
              "    </tr>\n",
              "    <tr>\n",
              "      <th>2019-06-10</th>\n",
              "      <td>43.388000</td>\n",
              "      <td>41.801998</td>\n",
              "      <td>42.049999</td>\n",
              "      <td>42.576000</td>\n",
              "      <td>52925000.0</td>\n",
              "      <td>42.576000</td>\n",
              "      <td>36.680115</td>\n",
              "    </tr>\n",
              "    <tr>\n",
              "      <th>2019-06-11</th>\n",
              "      <td>44.180000</td>\n",
              "      <td>42.700001</td>\n",
              "      <td>43.827999</td>\n",
              "      <td>43.419998</td>\n",
              "      <td>58267500.0</td>\n",
              "      <td>43.419998</td>\n",
              "      <td>36.989395</td>\n",
              "    </tr>\n",
              "    <tr>\n",
              "      <th>...</th>\n",
              "      <td>...</td>\n",
              "      <td>...</td>\n",
              "      <td>...</td>\n",
              "      <td>...</td>\n",
              "      <td>...</td>\n",
              "      <td>...</td>\n",
              "      <td>...</td>\n",
              "    </tr>\n",
              "    <tr>\n",
              "      <th>2021-04-05</th>\n",
              "      <td>708.159973</td>\n",
              "      <td>684.700012</td>\n",
              "      <td>707.710022</td>\n",
              "      <td>691.049988</td>\n",
              "      <td>41842800.0</td>\n",
              "      <td>691.049988</td>\n",
              "      <td>585.785889</td>\n",
              "    </tr>\n",
              "    <tr>\n",
              "      <th>2021-04-06</th>\n",
              "      <td>696.549988</td>\n",
              "      <td>681.369995</td>\n",
              "      <td>690.299988</td>\n",
              "      <td>691.619995</td>\n",
              "      <td>28271800.0</td>\n",
              "      <td>691.619995</td>\n",
              "      <td>588.170593</td>\n",
              "    </tr>\n",
              "    <tr>\n",
              "      <th>2021-04-07</th>\n",
              "      <td>691.380005</td>\n",
              "      <td>667.840027</td>\n",
              "      <td>687.000000</td>\n",
              "      <td>670.969971</td>\n",
              "      <td>26309400.0</td>\n",
              "      <td>670.969971</td>\n",
              "      <td>591.878601</td>\n",
              "    </tr>\n",
              "    <tr>\n",
              "      <th>2021-04-08</th>\n",
              "      <td>689.549988</td>\n",
              "      <td>671.650024</td>\n",
              "      <td>677.380005</td>\n",
              "      <td>683.799988</td>\n",
              "      <td>23924300.0</td>\n",
              "      <td>683.799988</td>\n",
              "      <td>595.072815</td>\n",
              "    </tr>\n",
              "    <tr>\n",
              "      <th>2021-04-09</th>\n",
              "      <td>680.969971</td>\n",
              "      <td>669.429993</td>\n",
              "      <td>677.770020</td>\n",
              "      <td>677.020020</td>\n",
              "      <td>21402600.0</td>\n",
              "      <td>677.020020</td>\n",
              "      <td>598.485657</td>\n",
              "    </tr>\n",
              "  </tbody>\n",
              "</table>\n",
              "<p>466 rows × 7 columns</p>\n",
              "</div>"
            ],
            "text/plain": [
              "                  High         Low  ...   Adj Close  Predictions\n",
              "Date                                ...                         \n",
              "2019-06-05   40.256001   38.369999  ...   39.318001    36.785694\n",
              "2019-06-06   42.200001   40.360001  ...   41.189999    36.545040\n",
              "2019-06-07   42.167999   40.700001  ...   40.900002    36.544220\n",
              "2019-06-10   43.388000   41.801998  ...   42.576000    36.680115\n",
              "2019-06-11   44.180000   42.700001  ...   43.419998    36.989395\n",
              "...                ...         ...  ...         ...          ...\n",
              "2021-04-05  708.159973  684.700012  ...  691.049988   585.785889\n",
              "2021-04-06  696.549988  681.369995  ...  691.619995   588.170593\n",
              "2021-04-07  691.380005  667.840027  ...  670.969971   591.878601\n",
              "2021-04-08  689.549988  671.650024  ...  683.799988   595.072815\n",
              "2021-04-09  680.969971  669.429993  ...  677.020020   598.485657\n",
              "\n",
              "[466 rows x 7 columns]"
            ]
          },
          "metadata": {
            "tags": []
          },
          "execution_count": 87
        }
      ]
    },
    {
      "cell_type": "code",
      "metadata": {
        "colab": {
          "base_uri": "https://localhost:8080/"
        },
        "id": "LBlBMs17VKy7",
        "outputId": "280bc4b4-b621-44a2-cff3-7b94e46e8754"
      },
      "source": [
        "#Predicted Data\n",
        "prediction"
      ],
      "execution_count": null,
      "outputs": [
        {
          "output_type": "execute_result",
          "data": {
            "text/plain": [
              "array([[ 42.501175],\n",
              "       [ 42.597862],\n",
              "       [ 42.688656],\n",
              "       [ 42.819664],\n",
              "       [ 42.932316],\n",
              "       [ 43.16385 ],\n",
              "       [ 43.43096 ],\n",
              "       [ 43.66446 ],\n",
              "       [ 43.85594 ],\n",
              "       [ 44.126003],\n",
              "       [ 44.423454],\n",
              "       [ 44.804295],\n",
              "       [ 45.32457 ],\n",
              "       [ 45.882286],\n",
              "       [ 46.457626],\n",
              "       [ 46.986305],\n",
              "       [ 47.510777],\n",
              "       [ 47.96333 ],\n",
              "       [ 48.399364],\n",
              "       [ 48.85868 ],\n",
              "       [ 48.81864 ],\n",
              "       [ 48.45264 ],\n",
              "       [ 48.010616],\n",
              "       [ 47.6407  ],\n",
              "       [ 47.335094],\n",
              "       [ 46.987316],\n",
              "       [ 46.642117],\n",
              "       [ 46.24094 ],\n",
              "       [ 45.86344 ],\n",
              "       [ 45.56239 ],\n",
              "       [ 45.395508],\n",
              "       [ 45.2805  ],\n",
              "       [ 45.124554],\n",
              "       [ 45.032337],\n",
              "       [ 44.780693],\n",
              "       [ 44.390793],\n",
              "       [ 43.997902],\n",
              "       [ 43.723637],\n",
              "       [ 43.53139 ],\n",
              "       [ 43.336685],\n",
              "       [ 43.17066 ],\n",
              "       [ 42.88988 ],\n",
              "       [ 42.603115],\n",
              "       [ 42.32051 ],\n",
              "       [ 42.080532],\n",
              "       [ 41.96639 ],\n",
              "       [ 41.992413],\n",
              "       [ 42.097168],\n",
              "       [ 42.185738],\n",
              "       [ 42.37627 ],\n",
              "       [ 42.59009 ],\n",
              "       [ 42.86177 ],\n",
              "       [ 43.201836],\n",
              "       [ 43.71692 ],\n",
              "       [ 44.291508],\n",
              "       [ 44.854683],\n",
              "       [ 45.3394  ],\n",
              "       [ 45.76751 ],\n",
              "       [ 46.113575],\n",
              "       [ 46.426285],\n",
              "       [ 46.617283],\n",
              "       [ 46.72662 ],\n",
              "       [ 46.53614 ],\n",
              "       [ 46.242172],\n",
              "       [ 46.090317],\n",
              "       [ 46.0352  ],\n",
              "       [ 46.028114],\n",
              "       [ 46.10217 ],\n",
              "       [ 46.200844],\n",
              "       [ 46.17191 ],\n",
              "       [ 46.041317],\n",
              "       [ 45.939487],\n",
              "       [ 45.894913],\n",
              "       [ 45.949993],\n",
              "       [ 46.06721 ],\n",
              "       [ 46.257286],\n",
              "       [ 46.601456],\n",
              "       [ 47.031834],\n",
              "       [ 47.511265],\n",
              "       [ 48.017788],\n",
              "       [ 48.438934],\n",
              "       [ 48.730305],\n",
              "       [ 48.94745 ],\n",
              "       [ 49.091618],\n",
              "       [ 49.783432],\n",
              "       [ 51.15892 ],\n",
              "       [ 52.866936],\n",
              "       [ 54.509926],\n",
              "       [ 55.977947],\n",
              "       [ 57.23129 ],\n",
              "       [ 58.2413  ],\n",
              "       [ 59.084995],\n",
              "       [ 59.764446],\n",
              "       [ 60.42054 ],\n",
              "       [ 61.138866],\n",
              "       [ 61.869854],\n",
              "       [ 62.664883],\n",
              "       [ 63.510307],\n",
              "       [ 64.27755 ],\n",
              "       [ 64.98454 ],\n",
              "       [ 65.642006],\n",
              "       [ 66.19348 ],\n",
              "       [ 66.76716 ],\n",
              "       [ 67.21812 ],\n",
              "       [ 67.59461 ],\n",
              "       [ 67.606384],\n",
              "       [ 67.429596],\n",
              "       [ 67.04763 ],\n",
              "       [ 66.59467 ],\n",
              "       [ 66.111115],\n",
              "       [ 65.70784 ],\n",
              "       [ 65.400986],\n",
              "       [ 65.13291 ],\n",
              "       [ 64.870575],\n",
              "       [ 64.702324],\n",
              "       [ 64.65314 ],\n",
              "       [ 64.80641 ],\n",
              "       [ 65.12811 ],\n",
              "       [ 65.626274],\n",
              "       [ 66.18319 ],\n",
              "       [ 67.04666 ],\n",
              "       [ 68.01117 ],\n",
              "       [ 69.16101 ],\n",
              "       [ 70.49412 ],\n",
              "       [ 71.87142 ],\n",
              "       [ 73.363045],\n",
              "       [ 74.904884],\n",
              "       [ 76.448074],\n",
              "       [ 77.87815 ],\n",
              "       [ 78.92826 ],\n",
              "       [ 79.7141  ],\n",
              "       [ 80.440414],\n",
              "       [ 81.25249 ],\n",
              "       [ 82.17886 ],\n",
              "       [ 83.34828 ],\n",
              "       [ 84.89903 ],\n",
              "       [ 86.43822 ],\n",
              "       [ 87.817314],\n",
              "       [ 89.62205 ],\n",
              "       [ 91.74702 ],\n",
              "       [ 93.66617 ],\n",
              "       [ 95.25162 ],\n",
              "       [ 96.47529 ],\n",
              "       [ 97.876884],\n",
              "       [ 99.5963  ],\n",
              "       [101.433784],\n",
              "       [103.11815 ],\n",
              "       [104.495605],\n",
              "       [105.70104 ],\n",
              "       [106.90331 ],\n",
              "       [108.82028 ],\n",
              "       [111.18805 ],\n",
              "       [115.399605],\n",
              "       [121.908455],\n",
              "       [127.37372 ],\n",
              "       [131.96678 ],\n",
              "       [135.67284 ],\n",
              "       [138.873   ],\n",
              "       [141.57962 ],\n",
              "       [143.69804 ],\n",
              "       [145.79112 ],\n",
              "       [147.67496 ],\n",
              "       [150.07292 ],\n",
              "       [153.41371 ],\n",
              "       [156.87285 ],\n",
              "       [160.17635 ],\n",
              "       [162.25096 ],\n",
              "       [162.95053 ],\n",
              "       [162.45638 ],\n",
              "       [159.92487 ],\n",
              "       [156.14447 ],\n",
              "       [152.85866 ],\n",
              "       [150.15189 ],\n",
              "       [148.0529  ],\n",
              "       [146.14565 ],\n",
              "       [144.20244 ],\n",
              "       [141.09174 ],\n",
              "       [137.95027 ],\n",
              "       [134.86281 ],\n",
              "       [131.04195 ],\n",
              "       [126.834526],\n",
              "       [121.32103 ],\n",
              "       [115.16481 ],\n",
              "       [108.112465],\n",
              "       [101.87269 ],\n",
              "       [ 96.58511 ],\n",
              "       [ 92.35471 ],\n",
              "       [ 90.025604],\n",
              "       [ 89.51206 ],\n",
              "       [ 90.021996],\n",
              "       [ 90.94428 ],\n",
              "       [ 91.88852 ],\n",
              "       [ 93.0682  ],\n",
              "       [ 93.74877 ],\n",
              "       [ 93.705284],\n",
              "       [ 93.55363 ],\n",
              "       [ 93.83879 ],\n",
              "       [ 94.78012 ],\n",
              "       [ 96.12118 ],\n",
              "       [ 97.94493 ],\n",
              "       [100.98862 ],\n",
              "       [105.38004 ],\n",
              "       [110.5802  ],\n",
              "       [116.1265  ],\n",
              "       [121.61398 ],\n",
              "       [126.57775 ],\n",
              "       [130.0701  ],\n",
              "       [132.99713 ],\n",
              "       [135.02266 ],\n",
              "       [136.60643 ],\n",
              "       [138.79065 ],\n",
              "       [140.8152  ],\n",
              "       [143.01372 ],\n",
              "       [144.91989 ],\n",
              "       [145.43295 ],\n",
              "       [145.82433 ],\n",
              "       [146.21144 ],\n",
              "       [146.76245 ],\n",
              "       [147.34431 ],\n",
              "       [148.42613 ],\n",
              "       [149.63719 ],\n",
              "       [150.81439 ],\n",
              "       [151.63766 ],\n",
              "       [152.34105 ],\n",
              "       [152.86398 ],\n",
              "       [153.42851 ],\n",
              "       [153.90543 ],\n",
              "       [154.39314 ],\n",
              "       [155.0131  ],\n",
              "       [155.52971 ],\n",
              "       [155.96931 ],\n",
              "       [156.34671 ],\n",
              "       [156.46605 ],\n",
              "       [156.80168 ],\n",
              "       [158.09036 ],\n",
              "       [159.66989 ],\n",
              "       [161.33443 ],\n",
              "       [162.6841  ],\n",
              "       [164.01999 ],\n",
              "       [166.10765 ],\n",
              "       [168.4013  ],\n",
              "       [171.77966 ],\n",
              "       [174.90959 ],\n",
              "       [177.15698 ],\n",
              "       [179.42522 ],\n",
              "       [181.4357  ],\n",
              "       [183.27254 ],\n",
              "       [185.03453 ],\n",
              "       [186.58684 ],\n",
              "       [187.8114  ],\n",
              "       [188.843   ],\n",
              "       [189.13988 ],\n",
              "       [189.2863  ],\n",
              "       [188.98383 ],\n",
              "       [189.07822 ],\n",
              "       [190.35164 ],\n",
              "       [192.803   ],\n",
              "       [196.99182 ],\n",
              "       [204.11794 ],\n",
              "       [212.80899 ],\n",
              "       [221.52402 ],\n",
              "       [229.98698 ],\n",
              "       [239.654   ],\n",
              "       [248.7596  ],\n",
              "       [257.11343 ],\n",
              "       [264.78168 ],\n",
              "       [270.8842  ],\n",
              "       [275.5781  ],\n",
              "       [280.91983 ],\n",
              "       [285.32352 ],\n",
              "       [289.1351  ],\n",
              "       [291.27408 ],\n",
              "       [290.9625  ],\n",
              "       [290.74353 ],\n",
              "       [289.79068 ],\n",
              "       [288.7421  ],\n",
              "       [287.55844 ],\n",
              "       [285.63104 ],\n",
              "       [284.0783  ],\n",
              "       [282.8959  ],\n",
              "       [281.99728 ],\n",
              "       [281.3919  ],\n",
              "       [280.52408 ],\n",
              "       [279.1001  ],\n",
              "       [276.8481  ],\n",
              "       [276.59598 ],\n",
              "       [278.48322 ],\n",
              "       [281.94977 ],\n",
              "       [288.54474 ],\n",
              "       [297.26672 ],\n",
              "       [306.54614 ],\n",
              "       [317.07074 ],\n",
              "       [328.21298 ],\n",
              "       [338.45493 ],\n",
              "       [347.5007  ],\n",
              "       [356.81052 ],\n",
              "       [366.70596 ],\n",
              "       [375.91776 ],\n",
              "       [387.55804 ],\n",
              "       [398.37167 ],\n",
              "       [406.10712 ],\n",
              "       [408.81183 ],\n",
              "       [408.92776 ],\n",
              "       [401.8681  ],\n",
              "       [393.16345 ],\n",
              "       [384.4442  ],\n",
              "       [376.4551  ],\n",
              "       [372.5059  ],\n",
              "       [373.27496 ],\n",
              "       [376.37036 ],\n",
              "       [379.4655  ],\n",
              "       [383.48843 ],\n",
              "       [388.23465 ],\n",
              "       [391.46704 ],\n",
              "       [390.72098 ],\n",
              "       [388.03366 ],\n",
              "       [385.6104  ],\n",
              "       [384.43436 ],\n",
              "       [383.99057 ],\n",
              "       [384.66214 ],\n",
              "       [387.18927 ],\n",
              "       [388.5686  ],\n",
              "       [389.78955 ],\n",
              "       [390.08087 ],\n",
              "       [390.4929  ],\n",
              "       [390.99646 ],\n",
              "       [392.03485 ],\n",
              "       [393.85736 ],\n",
              "       [396.30563 ],\n",
              "       [399.8848  ],\n",
              "       [403.10947 ],\n",
              "       [405.2837  ],\n",
              "       [406.0865  ],\n",
              "       [405.42203 ],\n",
              "       [403.9502  ],\n",
              "       [402.29797 ],\n",
              "       [400.3365  ],\n",
              "       [398.3073  ],\n",
              "       [396.66656 ],\n",
              "       [394.19983 ],\n",
              "       [391.70056 ],\n",
              "       [387.91373 ],\n",
              "       [384.3945  ],\n",
              "       [382.7985  ],\n",
              "       [382.32764 ],\n",
              "       [383.6671  ],\n",
              "       [385.50333 ],\n",
              "       [386.94336 ],\n",
              "       [387.3296  ],\n",
              "       [387.46362 ],\n",
              "       [387.0971  ],\n",
              "       [386.2434  ],\n",
              "       [385.12976 ],\n",
              "       [386.0782  ],\n",
              "       [391.1039  ],\n",
              "       [399.0721  ],\n",
              "       [407.63074 ],\n",
              "       [417.9206  ],\n",
              "       [430.5999  ],\n",
              "       [444.9434  ],\n",
              "       [459.93896 ],\n",
              "       [473.0684  ],\n",
              "       [485.10944 ],\n",
              "       [494.61124 ],\n",
              "       [503.35126 ],\n",
              "       [511.33646 ],\n",
              "       [520.8626  ],\n",
              "       [531.1113  ],\n",
              "       [538.26984 ],\n",
              "       [544.33966 ],\n",
              "       [548.2777  ],\n",
              "       [552.4079  ],\n",
              "       [555.9677  ],\n",
              "       [558.2723  ],\n",
              "       [561.6191  ],\n",
              "       [567.69293 ],\n",
              "       [572.2698  ],\n",
              "       [574.9763  ],\n",
              "       [576.67303 ],\n",
              "       [578.5717  ],\n",
              "       [580.57    ],\n",
              "       [582.60834 ],\n",
              "       [586.2186  ],\n",
              "       [591.1559  ],\n",
              "       [597.9238  ],\n",
              "       [605.5854  ],\n",
              "       [614.39435 ],\n",
              "       [626.6866  ],\n",
              "       [643.7771  ],\n",
              "       [658.4735  ],\n",
              "       [672.6632  ],\n",
              "       [685.74664 ],\n",
              "       [696.60443 ],\n",
              "       [704.2257  ],\n",
              "       [710.3386  ],\n",
              "       [715.4337  ],\n",
              "       [719.22876 ],\n",
              "       [722.0413  ],\n",
              "       [725.94196 ],\n",
              "       [730.33984 ],\n",
              "       [733.6326  ],\n",
              "       [734.4013  ],\n",
              "       [731.2588  ],\n",
              "       [728.552   ],\n",
              "       [728.2046  ],\n",
              "       [728.3087  ],\n",
              "       [728.37836 ],\n",
              "       [728.53735 ],\n",
              "       [729.34973 ],\n",
              "       [729.72095 ],\n",
              "       [727.30634 ],\n",
              "       [723.7472  ],\n",
              "       [720.0503  ],\n",
              "       [715.45154 ],\n",
              "       [710.7557  ],\n",
              "       [705.76874 ],\n",
              "       [700.637   ],\n",
              "       [692.02844 ],\n",
              "       [681.01965 ],\n",
              "       [671.8819  ],\n",
              "       [661.1768  ],\n",
              "       [649.8791  ],\n",
              "       [641.5844  ],\n",
              "       [633.908   ],\n",
              "       [625.1997  ],\n",
              "       [614.62775 ],\n",
              "       [602.30426 ],\n",
              "       [587.74066 ],\n",
              "       [579.5041  ],\n",
              "       [575.48895 ],\n",
              "       [576.1817  ],\n",
              "       [579.32385 ],\n",
              "       [584.51556 ],\n",
              "       [588.70435 ],\n",
              "       [593.407   ],\n",
              "       [595.21234 ],\n",
              "       [595.198   ],\n",
              "       [595.0054  ],\n",
              "       [594.283   ],\n",
              "       [591.4103  ],\n",
              "       [588.0444  ],\n",
              "       [583.3681  ],\n",
              "       [577.79846 ],\n",
              "       [573.56964 ],\n",
              "       [572.4287  ],\n",
              "       [572.89154 ],\n",
              "       [576.01636 ],\n",
              "       [580.5526  ],\n",
              "       [584.35315 ],\n",
              "       [588.15576 ],\n",
              "       [591.2775  ],\n",
              "       [595.2176  ],\n",
              "       [602.9134  ],\n",
              "       [610.5469  ],\n",
              "       [617.90027 ],\n",
              "       [624.5772  ],\n",
              "       [628.8696  ],\n",
              "       [631.6352  ],\n",
              "       [634.7443  ],\n",
              "       [636.43134 ],\n",
              "       [637.6769  ],\n",
              "       [639.08826 ],\n",
              "       [638.55896 ],\n",
              "       [636.2721  ],\n",
              "       [632.08716 ],\n",
              "       [628.9612  ],\n",
              "       [625.3131  ],\n",
              "       [620.93915 ],\n",
              "       [616.2976  ],\n",
              "       [611.4094  ]], dtype=float32)"
            ]
          },
          "metadata": {
            "tags": []
          },
          "execution_count": 21
        }
      ]
    },
    {
      "cell_type": "code",
      "metadata": {
        "id": "vjuXCuvsFkHX"
      },
      "source": [
        "valid.to_csv('data_frame.csv',header=True)"
      ],
      "execution_count": null,
      "outputs": []
    }
  ]
}