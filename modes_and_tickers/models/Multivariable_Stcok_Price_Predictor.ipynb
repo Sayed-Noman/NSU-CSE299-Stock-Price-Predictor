{
  "nbformat": 4,
  "nbformat_minor": 0,
  "metadata": {
    "colab": {
      "name": "Multivariable_Stcok_Price_Predictor.ipynb",
      "provenance": [],
      "collapsed_sections": []
    },
    "kernelspec": {
      "name": "python3",
      "display_name": "Python 3"
    },
    "language_info": {
      "name": "python"
    }
  },
  "cells": [
    {
      "cell_type": "markdown",
      "metadata": {
        "id": "BycE7-jnPudO"
      },
      "source": [
        "\n",
        "## Total Process: \n",
        "### Part-0:  Fire the System\n",
        "\n",
        "    Steps#0 :- Fire the System-- Import Libraries\n",
        "\n",
        "### Part-1 : Data Pre-Processing\n",
        "\n",
        "    Steps#1 :- Read Data\n",
        "    Steps#2 :- Data Pre-Processing(shaping and Transform)\n",
        "\n",
        "### Part-2 : Create a Model  and Train it\n",
        "\n",
        "    Steps#3 :- Building-up the Lstm based Neural Network\n",
        "    Steps#4 :-Start Training\n",
        "\n",
        "### Part-3 : Make Future Prediction\n",
        "\n",
        "\n",
        "    Steps#5 :-  Make Predictions for Future Dates\n",
        "    Steps#6 :- Visualize the Predictions\n"
      ]
    },
    {
      "cell_type": "code",
      "metadata": {
        "id": "Mqr2nDiGPxyy"
      },
      "source": [
        "# Steps#0 :- Fire the System-- Import Libraries\n",
        "\n",
        "import numpy as np\n",
        "import pandas as pd\n",
        "import matplotlib.pyplot as plt\n",
        "import pandas_datareader as web\n",
        "import datetime as dt\n",
        "from datetime import datetime\n",
        "from sklearn.preprocessing import MinMaxScaler\n",
        "from keras.callbacks import Callback,ReduceLROnPlateau,ModelCheckpoint,TensorBoard,EarlyStopping"
      ],
      "execution_count": null,
      "outputs": []
    },
    {
      "cell_type": "markdown",
      "metadata": {
        "id": "x7SXCzOdP7a0"
      },
      "source": [
        "*` Steps#1 :- Read Data`*"
      ]
    },
    {
      "cell_type": "code",
      "metadata": {
        "colab": {
          "base_uri": "https://localhost:8080/",
          "height": 450
        },
        "id": "Z32c1R8XP8Dv",
        "outputId": "d74d498b-18bd-4231-9594-cdcd9172dc22"
      },
      "source": [
        "# Steps#1 :- Read Data\n",
        "\n",
        "#Ticker Symbol\n",
        "company = 'AAPL'\n",
        "#Start and End Time \n",
        "start = dt.datetime(2012,1,1)\n",
        "end = dt.datetime.now()\n",
        "\n",
        "actual_data = web.DataReader(company, 'yahoo', start, end)\n",
        "actual_data"
      ],
      "execution_count": null,
      "outputs": [
        {
          "output_type": "execute_result",
          "data": {
            "text/html": [
              "<div>\n",
              "<style scoped>\n",
              "    .dataframe tbody tr th:only-of-type {\n",
              "        vertical-align: middle;\n",
              "    }\n",
              "\n",
              "    .dataframe tbody tr th {\n",
              "        vertical-align: top;\n",
              "    }\n",
              "\n",
              "    .dataframe thead th {\n",
              "        text-align: right;\n",
              "    }\n",
              "</style>\n",
              "<table border=\"1\" class=\"dataframe\">\n",
              "  <thead>\n",
              "    <tr style=\"text-align: right;\">\n",
              "      <th></th>\n",
              "      <th>High</th>\n",
              "      <th>Low</th>\n",
              "      <th>Open</th>\n",
              "      <th>Close</th>\n",
              "      <th>Volume</th>\n",
              "      <th>Adj Close</th>\n",
              "    </tr>\n",
              "    <tr>\n",
              "      <th>Date</th>\n",
              "      <th></th>\n",
              "      <th></th>\n",
              "      <th></th>\n",
              "      <th></th>\n",
              "      <th></th>\n",
              "      <th></th>\n",
              "    </tr>\n",
              "  </thead>\n",
              "  <tbody>\n",
              "    <tr>\n",
              "      <th>2012-01-03</th>\n",
              "      <td>14.732143</td>\n",
              "      <td>14.607143</td>\n",
              "      <td>14.621429</td>\n",
              "      <td>14.686786</td>\n",
              "      <td>302220800.0</td>\n",
              "      <td>12.650659</td>\n",
              "    </tr>\n",
              "    <tr>\n",
              "      <th>2012-01-04</th>\n",
              "      <td>14.810000</td>\n",
              "      <td>14.617143</td>\n",
              "      <td>14.642857</td>\n",
              "      <td>14.765714</td>\n",
              "      <td>260022000.0</td>\n",
              "      <td>12.718646</td>\n",
              "    </tr>\n",
              "    <tr>\n",
              "      <th>2012-01-05</th>\n",
              "      <td>14.948214</td>\n",
              "      <td>14.738214</td>\n",
              "      <td>14.819643</td>\n",
              "      <td>14.929643</td>\n",
              "      <td>271269600.0</td>\n",
              "      <td>12.859850</td>\n",
              "    </tr>\n",
              "    <tr>\n",
              "      <th>2012-01-06</th>\n",
              "      <td>15.098214</td>\n",
              "      <td>14.972143</td>\n",
              "      <td>14.991786</td>\n",
              "      <td>15.085714</td>\n",
              "      <td>318292800.0</td>\n",
              "      <td>12.994284</td>\n",
              "    </tr>\n",
              "    <tr>\n",
              "      <th>2012-01-09</th>\n",
              "      <td>15.276786</td>\n",
              "      <td>15.048214</td>\n",
              "      <td>15.196429</td>\n",
              "      <td>15.061786</td>\n",
              "      <td>394024400.0</td>\n",
              "      <td>12.973674</td>\n",
              "    </tr>\n",
              "    <tr>\n",
              "      <th>...</th>\n",
              "      <td>...</td>\n",
              "      <td>...</td>\n",
              "      <td>...</td>\n",
              "      <td>...</td>\n",
              "      <td>...</td>\n",
              "      <td>...</td>\n",
              "    </tr>\n",
              "    <tr>\n",
              "      <th>2021-04-19</th>\n",
              "      <td>135.470001</td>\n",
              "      <td>133.339996</td>\n",
              "      <td>133.509995</td>\n",
              "      <td>134.839996</td>\n",
              "      <td>94264200.0</td>\n",
              "      <td>134.839996</td>\n",
              "    </tr>\n",
              "    <tr>\n",
              "      <th>2021-04-20</th>\n",
              "      <td>135.529999</td>\n",
              "      <td>131.809998</td>\n",
              "      <td>135.020004</td>\n",
              "      <td>133.110001</td>\n",
              "      <td>94812300.0</td>\n",
              "      <td>133.110001</td>\n",
              "    </tr>\n",
              "    <tr>\n",
              "      <th>2021-04-21</th>\n",
              "      <td>133.750000</td>\n",
              "      <td>131.300003</td>\n",
              "      <td>132.360001</td>\n",
              "      <td>133.500000</td>\n",
              "      <td>68847100.0</td>\n",
              "      <td>133.500000</td>\n",
              "    </tr>\n",
              "    <tr>\n",
              "      <th>2021-04-22</th>\n",
              "      <td>134.149994</td>\n",
              "      <td>131.410004</td>\n",
              "      <td>133.039993</td>\n",
              "      <td>131.940002</td>\n",
              "      <td>84566500.0</td>\n",
              "      <td>131.940002</td>\n",
              "    </tr>\n",
              "    <tr>\n",
              "      <th>2021-04-23</th>\n",
              "      <td>135.119995</td>\n",
              "      <td>132.160004</td>\n",
              "      <td>132.160004</td>\n",
              "      <td>134.320007</td>\n",
              "      <td>78657500.0</td>\n",
              "      <td>134.320007</td>\n",
              "    </tr>\n",
              "  </tbody>\n",
              "</table>\n",
              "<p>2342 rows × 6 columns</p>\n",
              "</div>"
            ],
            "text/plain": [
              "                  High         Low  ...       Volume   Adj Close\n",
              "Date                                ...                         \n",
              "2012-01-03   14.732143   14.607143  ...  302220800.0   12.650659\n",
              "2012-01-04   14.810000   14.617143  ...  260022000.0   12.718646\n",
              "2012-01-05   14.948214   14.738214  ...  271269600.0   12.859850\n",
              "2012-01-06   15.098214   14.972143  ...  318292800.0   12.994284\n",
              "2012-01-09   15.276786   15.048214  ...  394024400.0   12.973674\n",
              "...                ...         ...  ...          ...         ...\n",
              "2021-04-19  135.470001  133.339996  ...   94264200.0  134.839996\n",
              "2021-04-20  135.529999  131.809998  ...   94812300.0  133.110001\n",
              "2021-04-21  133.750000  131.300003  ...   68847100.0  133.500000\n",
              "2021-04-22  134.149994  131.410004  ...   84566500.0  131.940002\n",
              "2021-04-23  135.119995  132.160004  ...   78657500.0  134.320007\n",
              "\n",
              "[2342 rows x 6 columns]"
            ]
          },
          "metadata": {
            "tags": []
          },
          "execution_count": 2
        }
      ]
    },
    {
      "cell_type": "code",
      "metadata": {
        "colab": {
          "base_uri": "https://localhost:8080/"
        },
        "id": "bGeQmku5P_Xo",
        "outputId": "bc8f3c36-67db-4e35-a230-491dc25da80f"
      },
      "source": [
        "#selecting features(columns) to br involved into training data set\n",
        "dataset_train = actual_data\n",
        "cols = list(dataset_train)[0:6]\n",
        "#extracting dates that will be used in visualization\n",
        "datelist_train = pd.to_datetime(dataset_train.index, format = '%m/%d/%Y').strftime('%Y-%m-%d')\n",
        "#datelist_train = list(dataset_train.index)\n",
        "datelist_train = [dt.datetime.strptime(date,'%Y-%m-%d').date() for date in datelist_train]\n",
        "      #datelist_train\n",
        "print('Training set Shape = {}'.format(dataset_train.shape))\n",
        "print('All Timestamps = {}'.format(len(datelist_train)))\n",
        "print('Features Selected = {}'.format(cols))"
      ],
      "execution_count": null,
      "outputs": [
        {
          "output_type": "stream",
          "text": [
            "Training set Shape = (2342, 6)\n",
            "All Timestamps = 2342\n",
            "Features Selected = ['High', 'Low', 'Open', 'Close', 'Volume', 'Adj Close']\n"
          ],
          "name": "stdout"
        }
      ]
    },
    {
      "cell_type": "markdown",
      "metadata": {
        "id": "q0ZwfWp9QIwF"
      },
      "source": [
        " *` Steps#2 :- Data Preprocessing(Scaling and Transform)`*"
      ]
    },
    {
      "cell_type": "code",
      "metadata": {
        "colab": {
          "base_uri": "https://localhost:8080/"
        },
        "id": "kRVTopIvQJhR",
        "outputId": "d8c2dbb1-caea-4ce9-e9d7-145a071efd57"
      },
      "source": [
        "# Removing all commas and convert data to matrix shape format\n",
        "dataset_train = dataset_train[cols].astype(str)\n",
        "for i in cols:\n",
        "  for j in range(0,len(dataset_train)):\n",
        "    dataset_train[i][j]=dataset_train[i][j].replace(',','')\n",
        "\n",
        "dataset_train=dataset_train.astype(float)\n",
        "#Using Multiple Prediction\n",
        "training_set = dataset_train.to_numpy()\n",
        "print('Shape of Training Set == {}'.format(training_set.shape))\n",
        "training_set"
      ],
      "execution_count": null,
      "outputs": [
        {
          "output_type": "stream",
          "text": [
            "Shape of Training Set == (2342, 6)\n"
          ],
          "name": "stdout"
        },
        {
          "output_type": "execute_result",
          "data": {
            "text/plain": [
              "array([[1.47321434e+01, 1.46071434e+01, 1.46214294e+01, 1.46867857e+01,\n",
              "        3.02220800e+08, 1.26506586e+01],\n",
              "       [1.48100004e+01, 1.46171427e+01, 1.46428566e+01, 1.47657137e+01,\n",
              "        2.60022000e+08, 1.27186460e+01],\n",
              "       [1.49482136e+01, 1.47382135e+01, 1.48196430e+01, 1.49296427e+01,\n",
              "        2.71269600e+08, 1.28598499e+01],\n",
              "       ...,\n",
              "       [1.33750000e+02, 1.31300003e+02, 1.32360001e+02, 1.33500000e+02,\n",
              "        6.88471000e+07, 1.33500000e+02],\n",
              "       [1.34149994e+02, 1.31410004e+02, 1.33039993e+02, 1.31940002e+02,\n",
              "        8.45665000e+07, 1.31940002e+02],\n",
              "       [1.35119995e+02, 1.32160004e+02, 1.32160004e+02, 1.34320007e+02,\n",
              "        7.86575000e+07, 1.34320007e+02]])"
            ]
          },
          "metadata": {
            "tags": []
          },
          "execution_count": 4
        }
      ]
    },
    {
      "cell_type": "code",
      "metadata": {
        "colab": {
          "base_uri": "https://localhost:8080/"
        },
        "id": "KQvTudevQNHD",
        "outputId": "04fa4c3c-0eac-4ab6-faff-1256a0f31f4c"
      },
      "source": [
        "#Feature Scaling\n",
        "from sklearn.preprocessing import StandardScaler\n",
        "sc =StandardScaler()\n",
        "training_set_scaled = sc.fit_transform(training_set)\n",
        "\n",
        "sc_predict_open = StandardScaler()\n",
        "sc_predict_open.fit_transform(training_set[:,2:3]) #Open Price"
      ],
      "execution_count": null,
      "outputs": [
        {
          "output_type": "execute_result",
          "data": {
            "text/plain": [
              "array([[-0.93784014],\n",
              "       [-0.93709983],\n",
              "       [-0.93099185],\n",
              "       ...,\n",
              "       [ 3.1300394 ],\n",
              "       [ 3.15353322],\n",
              "       [ 3.12312949]])"
            ]
          },
          "metadata": {
            "tags": []
          },
          "execution_count": 5
        }
      ]
    },
    {
      "cell_type": "code",
      "metadata": {
        "colab": {
          "base_uri": "https://localhost:8080/"
        },
        "id": "ekQMTEToQQt8",
        "outputId": "c0cda375-f8e6-4ca7-dd30-f17727bb344f"
      },
      "source": [
        "#create a data structure with 90 time stamp and 1 output\n",
        "n_future=60 #number of days we want to predict into the future\n",
        "n_past = 90 #number of past days we want to use to predict\n",
        "\n",
        "x_train = []\n",
        "y_train = []\n",
        "\n",
        "for i in range(n_past, len(training_set_scaled )- n_future +1):\n",
        "  x_train.append(training_set_scaled[i - n_past:i , 0:dataset_train.shape[1]-1])\n",
        "  y_train.append(training_set_scaled[i + n_future -1:i + n_future , 0])\n",
        "\n",
        "x_train,y_train = np.array(x_train),np.array(y_train)\n",
        "print('Shape of x_train == {}'.format(x_train.shape) )\n",
        "print('Shape of y_train == {}'.format(y_train.shape) )"
      ],
      "execution_count": null,
      "outputs": [
        {
          "output_type": "stream",
          "text": [
            "Shape of x_train == (2193, 90, 5)\n",
            "Shape of y_train == (2193, 1)\n"
          ],
          "name": "stdout"
        }
      ]
    },
    {
      "cell_type": "markdown",
      "metadata": {
        "id": "lPgHvWEcQbX-"
      },
      "source": [
        "*` Steps#3 :- Building-up the Lstm based Neural Network `* \n"
      ]
    },
    {
      "cell_type": "code",
      "metadata": {
        "id": "LzEm5XQ3Qb-a"
      },
      "source": [
        "#importing LSTM related Libraries\n",
        "from keras.models import Sequential\n",
        "from keras.layers import  Dense\n",
        "from keras.layers import Dropout\n",
        "from keras.layers import LSTM\n",
        "from keras.optimizers import Adam"
      ],
      "execution_count": null,
      "outputs": []
    },
    {
      "cell_type": "code",
      "metadata": {
        "id": "GGvlhmBkQfbD",
        "colab": {
          "base_uri": "https://localhost:8080/"
        },
        "outputId": "4b4eccbe-9339-4204-ff28-c4f15c89f368"
      },
      "source": [
        "#initializing the neural network based on LSTM model \n",
        "model = Sequential()\n",
        "\n",
        "#Adding LSTM Layer\n",
        "model.add(LSTM(units=65, return_sequences=True, input_shape =(n_past,dataset_train.shape[1]-1)))\n",
        "#Adding 2nd LSTM Layer\n",
        "model.add(LSTM(units = 35, return_sequences=True))\n",
        "#Adding 3rd LSTM Layer\n",
        "model.add(LSTM(units = 35, return_sequences=False))\n",
        "#Adding Droupout Layer\n",
        "model.add(Dropout(0.12))\n",
        "#Adding Dense/Output Layer\n",
        "model.add(Dense(units=1,activation='linear'))\n",
        "\n",
        "#Compiling Neural Network\n",
        "model.compile(optimizer = Adam(learning_rate=0.01),loss='mean_squared_error')\n",
        "\n",
        "#model Summary\n",
        "model.summary()"
      ],
      "execution_count": null,
      "outputs": [
        {
          "output_type": "stream",
          "text": [
            "Model: \"sequential_3\"\n",
            "_________________________________________________________________\n",
            "Layer (type)                 Output Shape              Param #   \n",
            "=================================================================\n",
            "lstm_6 (LSTM)                (None, 90, 65)            18460     \n",
            "_________________________________________________________________\n",
            "lstm_7 (LSTM)                (None, 90, 35)            14140     \n",
            "_________________________________________________________________\n",
            "lstm_8 (LSTM)                (None, 35)                9940      \n",
            "_________________________________________________________________\n",
            "dropout_3 (Dropout)          (None, 35)                0         \n",
            "_________________________________________________________________\n",
            "dense_3 (Dense)              (None, 1)                 36        \n",
            "=================================================================\n",
            "Total params: 42,576\n",
            "Trainable params: 42,576\n",
            "Non-trainable params: 0\n",
            "_________________________________________________________________\n"
          ],
          "name": "stdout"
        }
      ]
    },
    {
      "cell_type": "code",
      "metadata": {
        "colab": {
          "base_uri": "https://localhost:8080/"
        },
        "id": "-jGnI4hHSgkw",
        "outputId": "7b923208-31f5-4113-fb14-4a40d0bcd7ab"
      },
      "source": [
        "%%time\n",
        "es = EarlyStopping(monitor='val_loss',min_delta = 1e-10 , patience = 10, verbose = 1)\n",
        "rlr =  ReduceLROnPlateau(monitor='val_loss',factor = 0.2 , patience = 10, verbose = 1)\n",
        "mcp = ModelCheckpoint(filepath='weights.h5',monitor='val_loss',verbose=1, save_best_only=True,save_weights_only=True)\n",
        "tb = TensorBoard('logs')\n",
        "history = model.fit(x_train,y_train,shuffle=True,epochs=10,callbacks=[es,rlr,mcp,tb],validation_split=0.2,batch_size=60)"
      ],
      "execution_count": null,
      "outputs": [
        {
          "output_type": "stream",
          "text": [
            "Epoch 1/10\n",
            "30/30 [==============================] - 12s 236ms/step - loss: 0.1385 - val_loss: 4.9974\n",
            "\n",
            "Epoch 00001: val_loss improved from inf to 4.99739, saving model to weights.h5\n",
            "Epoch 2/10\n",
            "30/30 [==============================] - 5s 160ms/step - loss: 0.0147 - val_loss: 4.2673\n",
            "\n",
            "Epoch 00002: val_loss improved from 4.99739 to 4.26732, saving model to weights.h5\n",
            "Epoch 3/10\n",
            "30/30 [==============================] - 5s 160ms/step - loss: 0.0131 - val_loss: 4.6234\n",
            "\n",
            "Epoch 00003: val_loss did not improve from 4.26732\n",
            "Epoch 4/10\n",
            "30/30 [==============================] - 5s 162ms/step - loss: 0.0105 - val_loss: 4.7550\n",
            "\n",
            "Epoch 00004: val_loss did not improve from 4.26732\n",
            "Epoch 5/10\n",
            "30/30 [==============================] - 5s 163ms/step - loss: 0.0098 - val_loss: 4.6196\n",
            "\n",
            "Epoch 00005: val_loss did not improve from 4.26732\n",
            "Epoch 6/10\n",
            "30/30 [==============================] - 5s 161ms/step - loss: 0.0095 - val_loss: 4.5709\n",
            "\n",
            "Epoch 00006: val_loss did not improve from 4.26732\n",
            "Epoch 7/10\n",
            "30/30 [==============================] - 5s 168ms/step - loss: 0.0096 - val_loss: 4.7389\n",
            "\n",
            "Epoch 00007: val_loss did not improve from 4.26732\n",
            "Epoch 8/10\n",
            "30/30 [==============================] - 5s 170ms/step - loss: 0.0129 - val_loss: 4.2891\n",
            "\n",
            "Epoch 00008: val_loss did not improve from 4.26732\n",
            "Epoch 9/10\n",
            "30/30 [==============================] - 5s 166ms/step - loss: 0.0094 - val_loss: 4.3326\n",
            "\n",
            "Epoch 00009: val_loss did not improve from 4.26732\n",
            "Epoch 10/10\n",
            "30/30 [==============================] - 5s 172ms/step - loss: 0.0100 - val_loss: 4.4007\n",
            "\n",
            "Epoch 00010: val_loss did not improve from 4.26732\n",
            "CPU times: user 1min 29s, sys: 3.72 s, total: 1min 32s\n",
            "Wall time: 56.8 s\n"
          ],
          "name": "stdout"
        }
      ]
    },
    {
      "cell_type": "code",
      "metadata": {
        "id": "yy5nI7E4SmYo"
      },
      "source": [
        "# Generate list of sequence of days for predictions\n",
        "datelist_future = pd.date_range(datelist_train[-1], periods=n_future, freq='1d').tolist()\n",
        "\n",
        "'''\n",
        "Remeber, we have datelist_train from begining.\n",
        "'''\n",
        "\n",
        "# Convert Pandas Timestamp to Datetime object (for transformation) --> FUTURE\n",
        "datelist_future_ = []\n",
        "for this_timestamp in datelist_future:\n",
        "    datelist_future_.append(this_timestamp.date())"
      ],
      "execution_count": null,
      "outputs": []
    },
    {
      "cell_type": "code",
      "metadata": {
        "id": "-_baDGlfSrc-"
      },
      "source": [
        "# Perform predictions\n",
        "predictions_future = model.predict(x_train[-n_future:])\n",
        "\n",
        "predictions_train = model.predict(x_train[n_past:])"
      ],
      "execution_count": null,
      "outputs": []
    },
    {
      "cell_type": "code",
      "metadata": {
        "colab": {
          "base_uri": "https://localhost:8080/",
          "height": 142
        },
        "id": "-6xegK5FSugO",
        "outputId": "6bbe478b-feee-4bc4-d916-0a8db51217a5"
      },
      "source": [
        "# Inverse the predictions to original measurements\n",
        "\n",
        "# ---> Special function: convert <datetime.date> to <Timestamp>\n",
        "def datetime_to_timestamp(x):\n",
        "    '''\n",
        "        x : a given datetime value (datetime.date)\n",
        "    '''\n",
        "    return datetime.strptime(x.strftime('%Y%m%d'), '%Y%m%d')\n",
        "\n",
        "\n",
        "y_pred_future = sc_predict_open.inverse_transform(predictions_future)\n",
        "y_pred_train = sc_predict_open.inverse_transform(predictions_train)\n",
        "\n",
        "PREDICTIONS_FUTURE = pd.DataFrame(y_pred_future, columns=['Open']).set_index(pd.Series(datelist_future))\n",
        "PREDICTION_TRAIN = pd.DataFrame(y_pred_train, columns=['Open']).set_index(pd.Series(datelist_train[2 * n_past + n_future -1:]))\n",
        "\n",
        "# Convert <datetime.date> to <Timestamp> for PREDCITION_TRAIN\n",
        "PREDICTION_TRAIN.index = PREDICTION_TRAIN.index.to_series().apply(datetime_to_timestamp)\n",
        "\n",
        "PREDICTION_TRAIN.tail(3)"
      ],
      "execution_count": null,
      "outputs": [
        {
          "output_type": "execute_result",
          "data": {
            "text/html": [
              "<div>\n",
              "<style scoped>\n",
              "    .dataframe tbody tr th:only-of-type {\n",
              "        vertical-align: middle;\n",
              "    }\n",
              "\n",
              "    .dataframe tbody tr th {\n",
              "        vertical-align: top;\n",
              "    }\n",
              "\n",
              "    .dataframe thead th {\n",
              "        text-align: right;\n",
              "    }\n",
              "</style>\n",
              "<table border=\"1\" class=\"dataframe\">\n",
              "  <thead>\n",
              "    <tr style=\"text-align: right;\">\n",
              "      <th></th>\n",
              "      <th>Open</th>\n",
              "    </tr>\n",
              "  </thead>\n",
              "  <tbody>\n",
              "    <tr>\n",
              "      <th>2021-04-21</th>\n",
              "      <td>38.517632</td>\n",
              "    </tr>\n",
              "    <tr>\n",
              "      <th>2021-04-22</th>\n",
              "      <td>38.585056</td>\n",
              "    </tr>\n",
              "    <tr>\n",
              "      <th>2021-04-23</th>\n",
              "      <td>38.670670</td>\n",
              "    </tr>\n",
              "  </tbody>\n",
              "</table>\n",
              "</div>"
            ],
            "text/plain": [
              "                 Open\n",
              "2021-04-21  38.517632\n",
              "2021-04-22  38.585056\n",
              "2021-04-23  38.670670"
            ]
          },
          "metadata": {
            "tags": []
          },
          "execution_count": 34
        }
      ]
    },
    {
      "cell_type": "code",
      "metadata": {
        "colab": {
          "base_uri": "https://localhost:8080/",
          "height": 360
        },
        "id": "H64yNmJqS6Te",
        "outputId": "cc28c91b-4381-4247-b6bf-152fb18662d1"
      },
      "source": [
        "# Set plot size \n",
        "from pylab import rcParams\n",
        "rcParams['figure.figsize'] = 14, 5\n",
        "\n",
        "# Plot parameters\n",
        "START_DATE_FOR_PLOTTING = '2012-06-01'\n",
        "\n",
        "plt.plot(PREDICTIONS_FUTURE.index, PREDICTIONS_FUTURE['Open'], color='r', label='Predicted Stock Price')\n",
        "plt.plot(PREDICTION_TRAIN.loc[START_DATE_FOR_PLOTTING:].index, PREDICTION_TRAIN.loc[START_DATE_FOR_PLOTTING:]['Open'], color='orange', label='Training predictions')\n",
        "plt.plot(dataset_train.loc[START_DATE_FOR_PLOTTING:].index, dataset_train.loc[START_DATE_FOR_PLOTTING:]['Open'], color='b', label='Actual Stock Price')\n",
        "\n",
        "plt.axvline(x = min(PREDICTIONS_FUTURE.index), color='green', linewidth=2, linestyle='--')\n",
        "\n",
        "plt.grid(which='major', color='#cccccc', alpha=0.5)\n",
        "\n",
        "plt.legend(shadow=True)\n",
        "plt.title('Predcitions and Acutal Stock Prices', family='Arial', fontsize=12)\n",
        "plt.xlabel('Timeline', family='Arial', fontsize=10)\n",
        "plt.ylabel('Stock Price Value', family='Arial', fontsize=10)\n",
        "plt.xticks(rotation=45, fontsize=8)\n",
        "plt.show()"
      ],
      "execution_count": null,
      "outputs": [
        {
          "output_type": "display_data",
          "data": {
            "image/png": "[encoded data removed]",
            "text/plain": [
              "<Figure size 1008x360 with 1 Axes>"
            ]
          },
          "metadata": {
            "tags": [],
            "needs_background": "light"
          }
        }
      ]
    }
  ]
}